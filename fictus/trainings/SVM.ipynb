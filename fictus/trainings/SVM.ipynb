{
 "cells": [
  {
   "cell_type": "code",
   "execution_count": 2,
   "metadata": {},
   "outputs": [
    {
     "name": "stderr",
     "output_type": "stream",
     "text": [
      "/Users/aqila/Library/Python/3.9/lib/python/site-packages/sklearn/svm/_classes.py:32: FutureWarning: The default value of `dual` will change from `True` to `'auto'` in 1.5. Set the value of `dual` explicitly to suppress the warning.\n",
      "  warnings.warn(\n"
     ]
    },
    {
     "name": "stdout",
     "output_type": "stream",
     "text": [
      "accuracy:   81.667\n",
      "[False]\n"
     ]
    },
    {
     "name": "stderr",
     "output_type": "stream",
     "text": [
      "/Users/aqila/Library/Python/3.9/lib/python/site-packages/sklearn/svm/_classes.py:32: FutureWarning: The default value of `dual` will change from `True` to `'auto'` in 1.5. Set the value of `dual` explicitly to suppress the warning.\n",
      "  warnings.warn(\n"
     ]
    },
    {
     "name": "stdout",
     "output_type": "stream",
     "text": [
      "accuracy:   90.435\n"
     ]
    }
   ],
   "source": [
    "# Inspiration, template from: https://medium.com/analytics-vidhya/fake-news-detection-using-nlp-techniques-c2dc4be05f99\n",
    "# Credits to: https://medium.com/@joyceannie111\n",
    "# Modified for my own use\n",
    "# SVM Training\n",
    "\n",
    "import sklearn.metrics as metrics\n",
    "import pandas as pd\n",
    "\n",
    "from pathlib import Path\n",
    "from sklearn.svm import LinearSVC\n",
    "from sklearn.feature_extraction.text import TfidfTransformer\n",
    "from sklearn.feature_extraction.text import CountVectorizer\n",
    "from sklearn.pipeline import Pipeline\n",
    "from sklearn.model_selection import train_test_split\n",
    "\n",
    "# news classifier training\n",
    "news_classifier_data = pd.read_csv(Path(\"/Users/aqila/fictus/fictus/data/news_classifier_model.csv\"), delimiter=\";\")\n",
    "\n",
    "x_train,x_test,y_train,y_test = \\\n",
    "    train_test_split(news_classifier_data['text'],news_classifier_data[\"label\"],test_size=0.2, random_state = 1)\n",
    "\n",
    "pipe = Pipeline([\n",
    "    ('vect', CountVectorizer(encoding=\"utf-8\")),\n",
    "    ('tfidf', TfidfTransformer()),\n",
    "    ('clf', LinearSVC())\n",
    "])\n",
    "\n",
    "news_classifier_model = pipe.fit(x_train, y_train)\n",
    "prediction = news_classifier_model.predict(x_test)\n",
    "# Test\n",
    "score = metrics.accuracy_score(y_test, prediction)\n",
    "print(\"accuracy:   %0.3f\" % (score*100))\n",
    "print(news_classifier_model.predict([\"hello\"]))\n",
    "# Fake news classifier training\n",
    "fake_news_classifier_data = pd.read_json(Path(\"/Users/aqila/fictus/fictus/data/fake_news_classifier_model.json\"))\n",
    "\n",
    "x_train,x_test,y_train,y_test = \\\n",
    "    train_test_split(fake_news_classifier_data['content'],fake_news_classifier_data[\"classification\"],test_size=0.2, random_state = 1)\n",
    "\n",
    "pipe = Pipeline([\n",
    "    ('vect', CountVectorizer(encoding=\"utf-8\")),\n",
    "    ('tfidf', TfidfTransformer()),\n",
    "    ('clf', LinearSVC())\n",
    "])\n",
    "\n",
    "fake_news_classifier_model = pipe.fit(x_train, y_train)\n",
    "prediction = fake_news_classifier_model.predict(x_test)\n",
    "\n",
    "# Test\n",
    "score = metrics.accuracy_score(y_test, prediction)\n",
    "print(\"accuracy:   %0.3f\" % (score*100))\n"
   ]
  }
 ],
 "metadata": {
  "kernelspec": {
   "display_name": "Python 3",
   "language": "python",
   "name": "python3"
  },
  "language_info": {
   "codemirror_mode": {
    "name": "ipython",
    "version": 3
   },
   "file_extension": ".py",
   "mimetype": "text/x-python",
   "name": "python",
   "nbconvert_exporter": "python",
   "pygments_lexer": "ipython3",
   "version": "3.9.6"
  },
  "orig_nbformat": 4
 },
 "nbformat": 4,
 "nbformat_minor": 2
}
